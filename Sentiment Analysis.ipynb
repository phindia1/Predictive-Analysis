{
 "cells": [
  {
   "cell_type": "code",
   "execution_count": 1,
   "metadata": {
    "collapsed": true
   },
   "outputs": [],
   "source": [
    "import tweepy\n",
    "from textblob import TextBlob\n",
    "import sys\n",
    "import csv\n",
    "import pandas as pd\n"
   ]
  },
  {
   "cell_type": "code",
   "execution_count": 2,
   "metadata": {
    "collapsed": true
   },
   "outputs": [],
   "source": [
    "consumer_key= ''\n",
    "consumer_secret= ''"
   ]
  },
  {
   "cell_type": "code",
   "execution_count": 3,
   "metadata": {
    "collapsed": true
   },
   "outputs": [],
   "source": [
    "access_token=''\n",
    "access_token_secret=''"
   ]
  },
  {
   "cell_type": "code",
   "execution_count": 4,
   "metadata": {
    "collapsed": true
   },
   "outputs": [],
   "source": [
    "auth = tweepy.OAuthHandler(consumer_key, consumer_secret)\n",
    "auth.set_access_token(access_token, access_token_secret)\n"
   ]
  },
  {
   "cell_type": "code",
   "execution_count": 5,
   "metadata": {
    "collapsed": true
   },
   "outputs": [],
   "source": [
    "api = tweepy.API(auth)"
   ]
  },
  {
   "cell_type": "code",
   "execution_count": 6,
   "metadata": {
    "collapsed": true
   },
   "outputs": [],
   "source": [
    "public_tweets = api.search('blockchain')"
   ]
  },
  {
   "cell_type": "code",
   "execution_count": 8,
   "metadata": {
    "collapsed": false
   },
   "outputs": [
    {
     "name": "stdout",
     "output_type": "stream",
     "text": [
      "RT @nathanielpopper: the blockchain is being sold as an answer to some of the most intractable problems facing society today https://t.co/a…\n",
      "Sentiment(polarity=0.5, subjectivity=0.5)\n",
      "RT @PundiXLabs: President @kiki_cp will speak together with @IBM, @500Startups, @bankmandiri and Bank Indonesia in a panel of Euromoney Ind…\n",
      "Sentiment(polarity=0.0, subjectivity=0.0)\n",
      "RT @Peurtoken: https://t.co/o5pyFZPow7 はトランザクションをより安全かつ迅速にします。\n",
      "#peur #cryptocurrency #bitcoin #dash #litecoin #ethereum #ico #bounty #inves…\n",
      "Sentiment(polarity=0.0, subjectivity=0.0)\n",
      "Oil and Gas Supply Chain, will be an integral part of the US$ 5.08 billion global drilling waste management market.… https://t.co/tctmWXVLiu\n",
      "Sentiment(polarity=-0.1, subjectivity=0.0)\n",
      "RT @SuperEthereum: STH ICO IS LIVE\n",
      "+13,000,000 $ Raised\n",
      "https://t.co/6rIE6IyU8W\n",
      "https://t.co/vwJ39KOYBz\n",
      "\n",
      "#Crypto #cryptocurrency #Bitcoin #…\n",
      "Sentiment(polarity=0.13636363636363635, subjectivity=0.5)\n",
      "RT @IdentityMind: 90 Minutes with the SEC on ICOs (new blog post): https://t.co/pLwRLH05Dq #ICOs #tokensales #Bitcoin #BlockChain #FinTech…\n",
      "Sentiment(polarity=0.018181818181818174, subjectivity=0.5272727272727272)\n",
      "RT @Photochain_io: By developing the Photochain platform, we present the possibility for artists to sell their works directly to their cust…\n",
      "Sentiment(polarity=0.05, subjectivity=0.2)\n",
      "RT @DigitizeCoin: 🔜 PRESALE- Less than 4 days Away!\n",
      "Join the #whitelist 📢\n",
      "https://t.co/XorQQmXkh8\n",
      "\n",
      "#Digitize is the first #blockchain start…\n",
      "Sentiment(polarity=0.020833333333333343, subjectivity=0.19999999999999998)\n",
      "RT @SuperEthereum: +13,000,000 $ Raised\n",
      "STH token price 0.004$\n",
      "Round 2\n",
      "https://t.co/6rIE6IyU8W\n",
      "https://t.co/vwJ39KOYBz\n",
      "\n",
      "#Crypto #cryptocurr…\n",
      "Sentiment(polarity=-0.2, subjectivity=0.4)\n",
      "RT @SarahJamieLewis: Step 1: You have a problem\n",
      "Step 2: You introduce a blockchain  to solve problem\n",
      "Step 3: You now have an incentives pro…\n",
      "Sentiment(polarity=0.0, subjectivity=0.0)\n",
      "RT @chriszenios: Great day at the @CryptoWorldExpo in #Berlin with @diwtoken and my fellow Co-Founder @stefcon_1979! \n",
      "\n",
      "#cryptocurrencyworld…\n",
      "Sentiment(polarity=1.0, subjectivity=0.75)\n",
      "#Crypto #Blockchain #Crowdfunding #databrokerdao  #data #sensordata #localdata #ether #ethereum #bitcoin… https://t.co/WlaYzqrCLt\n",
      "Sentiment(polarity=0.0, subjectivity=0.0)\n",
      "RT @nodepower_eu: ⚡️Limitless possibilities of Node⚡️\n",
      "Recently, an #electric vehicle called #Eagle was introduced at #ISPO.\n",
      "#Node #technolo…\n",
      "Sentiment(polarity=0.0, subjectivity=0.25)\n",
      "Blockchain-specialist \"virus\": as cracked the crypto Ledger - https://t.co/fOkoiAJ3GI https://t.co/vEPkjbqkga\n",
      "Sentiment(polarity=0.0, subjectivity=0.0)\n",
      "@AliantPayment where can I learn more about the crypto payment integration so that I can help get vendors and artis… https://t.co/WTBfpHfGFg\n",
      "Sentiment(polarity=0.5, subjectivity=0.5)\n"
     ]
    }
   ],
   "source": [
    "for x in public_tweets:\n",
    "    print(x.text)\n",
    "    analysis = TextBlob(x.text)\n",
    "    print(analysis.sentiment)\n",
    "    "
   ]
  },
  {
   "cell_type": "code",
   "execution_count": null,
   "metadata": {
    "collapsed": true
   },
   "outputs": [],
   "source": []
  },
  {
   "cell_type": "code",
   "execution_count": null,
   "metadata": {
    "collapsed": true
   },
   "outputs": [],
   "source": []
  }
 ],
 "metadata": {
  "kernelspec": {
   "display_name": "Python 3",
   "language": "python",
   "name": "python3"
  },
  "language_info": {
   "codemirror_mode": {
    "name": "ipython",
    "version": 3
   },
   "file_extension": ".py",
   "mimetype": "text/x-python",
   "name": "python",
   "nbconvert_exporter": "python",
   "pygments_lexer": "ipython3",
   "version": "3.6.0"
  }
 },
 "nbformat": 4,
 "nbformat_minor": 2
}
